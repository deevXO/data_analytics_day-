{
  "nbformat": 4,
  "nbformat_minor": 0,
  "metadata": {
    "colab": {
      "provenance": []
    },
    "kernelspec": {
      "name": "python3",
      "display_name": "Python 3"
    },
    "language_info": {
      "name": "python"
    }
  },
  "cells": [
    {
      "cell_type": "code",
      "execution_count": null,
      "metadata": {
        "id": "SA8lp1cyr8ET"
      },
      "outputs": [],
      "source": []
    },
    {
      "cell_type": "code",
      "metadata": {
        "colab": {
          "base_uri": "https://localhost:8080/"
        },
        "id": "e75d4d38",
        "outputId": "2ba3b37b-48fe-4a29-aff9-ad26775291a5"
      },
      "source": [
        "a = []\n",
        "for i in range(5):\n",
        "    while True:\n",
        "        try:\n",
        "            num_str = input(f\"Enter number {i+1}: \")\n",
        "            num = int(num_str)\n",
        "            a.append(num)\n",
        "            break\n",
        "        except ValueError:\n",
        "            print(\"Please enter an integer.\")\n",
        "print(\"The final list is:\", a)"
      ],
      "execution_count": null,
      "outputs": [
        {
          "output_type": "stream",
          "name": "stdout",
          "text": [
            "Enter number 1: 85\n",
            "Enter number 2: 90\n",
            "Enter number 3: 45\n",
            "Enter number 4: 25\n",
            "Enter number 5: 300\n",
            "The final list is: [85, 90, 45, 25, 300]\n"
          ]
        }
      ]
    },
    {
      "cell_type": "code",
      "metadata": {
        "colab": {
          "base_uri": "https://localhost:8080/"
        },
        "id": "992b2a2e",
        "outputId": "b81d609c-2c9c-4e10-eeac-38c52c5e0faf"
      },
      "source": [
        "list1 = [1, 2, 3]\n",
        "list2 = [4, 5, 6]\n",
        "list1.extend(list2)\n",
        "print(list1)"
      ],
      "execution_count": null,
      "outputs": [
        {
          "output_type": "stream",
          "name": "stdout",
          "text": [
            "[1, 2, 3, 4, 5, 6]\n"
          ]
        }
      ]
    },
    {
      "cell_type": "code",
      "metadata": {
        "colab": {
          "base_uri": "https://localhost:8080/"
        },
        "id": "7aa8705b",
        "outputId": "dc177432-72e0-4fde-8305-80bf10b47e0a"
      },
      "source": [
        "b = [10, 20, 40, 50]\n",
        "print(f\"Original list: {b}\")\n",
        "try:\n",
        "    index = int(input(\"Enter the index where you want to insert the value: \"))\n",
        "    val = input(\"Enter the value you want to insert: \")\n",
        "    try:\n",
        "        val = int(val)\n",
        "    except ValueError:\n",
        "        try:\n",
        "            val = float(val)\n",
        "        except ValueError:\n",
        "            pass\n",
        "    b.insert(index, val)\n",
        "    print(f\"Modified list: {b}\")\n",
        "except ValueError:\n",
        "    print(\"Invalid input for index. Please enter an integer.\")\n",
        "except IndexError:\n",
        "    print(\"Index out of range. Please enter a valid index.\")"
      ],
      "execution_count": null,
      "outputs": [
        {
          "output_type": "stream",
          "name": "stdout",
          "text": [
            "Original list: [10, 20, 40, 50]\n",
            "Enter the index where you want to insert the value: 3\n",
            "Enter the value you want to insert: 9595\n",
            "Modified list: [10, 20, 40, 9595, 50]\n"
          ]
        }
      ]
    },
    {
      "cell_type": "code",
      "metadata": {
        "colab": {
          "base_uri": "https://localhost:8080/"
        },
        "id": "02a69a88",
        "outputId": "84670911-d5aa-4a1a-b503-eda1d5c2b8a3"
      },
      "source": [
        "c = [10, 20, 30, 20, 40, 50, 20]\n",
        "print(f\"Original list: {c}\")\n",
        "value = input(\"Enter the value you want to remove: \")\n",
        "try:\n",
        "    valremove = int(value)\n",
        "except ValueError:\n",
        "    try:\n",
        "        valremove = float(value)\n",
        "    except ValueError:\n",
        "        valremove = value\n",
        "try:\n",
        "    c.remove(valremove)\n",
        "    print(f\"Modified list: {c}\")\n",
        "except ValueError:\n",
        "    print(f\"Value '{value}' not found in the list.\")"
      ],
      "execution_count": null,
      "outputs": [
        {
          "output_type": "stream",
          "name": "stdout",
          "text": [
            "Original list: [10, 20, 30, 20, 40, 50, 20]\n",
            "Enter the value you want to remove: 50\n",
            "Modified list: [10, 20, 30, 20, 40, 20]\n"
          ]
        }
      ]
    },
    {
      "cell_type": "code",
      "metadata": {
        "colab": {
          "base_uri": "https://localhost:8080/"
        },
        "id": "e49e20c3",
        "outputId": "6646d92c-3d81-4638-fea1-e0d49f8a31cb"
      },
      "source": [
        "d = [10, 20, 30, 40, 50]\n",
        "print(f\"Original list: {d}\")\n",
        "removed_element = d.pop()\n",
        "print(f\"Removed element: {removed_element}\")\n",
        "print(f\"Updated list: {d}\")"
      ],
      "execution_count": null,
      "outputs": [
        {
          "output_type": "stream",
          "name": "stdout",
          "text": [
            "Original list: [10, 20, 30, 40, 50]\n",
            "Removed element: 50\n",
            "Updated list: [10, 20, 30, 40]\n"
          ]
        }
      ]
    },
    {
      "cell_type": "code",
      "metadata": {
        "colab": {
          "base_uri": "https://localhost:8080/"
        },
        "id": "5db084c0",
        "outputId": "0e806525-def6-410f-e147-b620e1ef2da9"
      },
      "source": [
        "e = [1, 5, 10, 5, 15, 20]\n",
        "print(f\"Original list: {e}\")\n",
        "find = input(\"Enter the element whose index you want to find: \")\n",
        "try:\n",
        "    element_to_find = int(find)\n",
        "except ValueError:\n",
        "    try:\n",
        "        element_to_find = float(find)\n",
        "    except ValueError:\n",
        "        element_to_find = (find)\n",
        "try:\n",
        "    index = e.index(element_to_find)\n",
        "    print(f\"The index of the first occurrence of '{find}' is: {index}\")\n",
        "except ValueError:\n",
        "    print(f\"Element '{find}' not found in the list.\")"
      ],
      "execution_count": null,
      "outputs": [
        {
          "output_type": "stream",
          "name": "stdout",
          "text": [
            "Original list: [1, 5, 10, 5, 15, 20]\n",
            "Enter the element whose index you want to find: 15\n",
            "The index of the first occurrence of '15' is: 4\n"
          ]
        }
      ]
    },
    {
      "cell_type": "code",
      "metadata": {
        "colab": {
          "base_uri": "https://localhost:8080/"
        },
        "id": "082257eb",
        "outputId": "6867cb1a-f9e1-4af8-d2eb-87becaecffaf"
      },
      "source": [
        "f = [1, 2, 2, 3, 4, 2, 5, 6, 2]\n",
        "print(f\"Original list: {f}\")\n",
        "c = input(\"Enter the element you want to count: \")\n",
        "try:\n",
        "    element_to_count = int(c)\n",
        "except ValueError:\n",
        "    try:\n",
        "        element_to_count = float(c)\n",
        "    except ValueError:\n",
        "        element_to_count = c\n",
        "count = f.count(element_to_count)\n",
        "print(f\"The element '{c}' appeared {count} times in the list.\")"
      ],
      "execution_count": null,
      "outputs": [
        {
          "output_type": "stream",
          "name": "stdout",
          "text": [
            "Original list: [1, 2, 2, 3, 4, 2, 5, 6, 2]\n",
            "Enter the element you want to count: 2\n",
            "The element '2' appeared 4 times in the list.\n"
          ]
        }
      ]
    },
    {
      "cell_type": "code",
      "metadata": {
        "colab": {
          "base_uri": "https://localhost:8080/"
        },
        "id": "a3c8979a",
        "outputId": "a60904ef-2864-4206-e5a0-0881ccf3fef5"
      },
      "source": [
        "my = [5, 2, 8, 1, 9, 4]\n",
        "print(f\"Original list: {my}\")\n",
        "my.sort()\n",
        "print(f\"List after ascending sort: {my}\")\n",
        "my.sort(reverse=True)\n",
        "print(f\"List after descending sort: {my}\")"
      ],
      "execution_count": null,
      "outputs": [
        {
          "output_type": "stream",
          "name": "stdout",
          "text": [
            "Original list: [5, 2, 8, 1, 9, 4]\n",
            "List after ascending sort: [1, 2, 4, 5, 8, 9]\n",
            "List after descending sort: [9, 8, 5, 4, 2, 1]\n"
          ]
        }
      ]
    },
    {
      "cell_type": "code",
      "metadata": {
        "colab": {
          "base_uri": "https://localhost:8080/"
        },
        "id": "42013c2e",
        "outputId": "327db147-9537-4151-d903-ed43a1ee5d70"
      },
      "source": [
        "m = [1, 2, 3, 4, 5]\n",
        "print(f\"Original list: {m}\")\n",
        "m.reverse()\n",
        "print(f\"List after reversing: {m}\")"
      ],
      "execution_count": null,
      "outputs": [
        {
          "output_type": "stream",
          "name": "stdout",
          "text": [
            "Original list: [1, 2, 3, 4, 5]\n",
            "List after reversing: [5, 4, 3, 2, 1]\n"
          ]
        }
      ]
    },
    {
      "cell_type": "code",
      "metadata": {
        "colab": {
          "base_uri": "https://localhost:8080/"
        },
        "id": "90504b8d",
        "outputId": "b847c3f7-e4f6-48ba-8820-056964521fe7"
      },
      "source": [
        "original_list = [10, 20, 30, 40, 50]\n",
        "copied_list = original_list.copy()\n",
        "print(f\"Original list before modification: {original_list}\")\n",
        "print(f\"Copied list before modification: {copied_list}\")\n",
        "copied_list.append(60)\n",
        "copied_list[0] = 100\n",
        "print(f\"Copied list after modification: {copied_list}\")\n",
        "print(f\"Original list after modification: {original_list}\")"
      ],
      "execution_count": null,
      "outputs": [
        {
          "output_type": "stream",
          "name": "stdout",
          "text": [
            "Original list before modification: [10, 20, 30, 40, 50]\n",
            "Copied list before modification: [10, 20, 30, 40, 50]\n",
            "Copied list after modification: [100, 20, 30, 40, 50, 60]\n",
            "Original list after modification: [10, 20, 30, 40, 50]\n"
          ]
        }
      ]
    }
  ]
}