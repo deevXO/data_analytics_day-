{
  "nbformat": 4,
  "nbformat_minor": 0,
  "metadata": {
    "colab": {
      "provenance": []
    },
    "kernelspec": {
      "name": "python3",
      "display_name": "Python 3"
    },
    "language_info": {
      "name": "python"
    }
  },
  "cells": [
    {
      "cell_type": "code",
      "source": [
        "n = []\n",
        "for i in range(10):\n",
        "    while True:\n",
        "        try:\n",
        "            num_str = input(f\"Enter integer {i+1}: \")\n",
        "            num = int(num_str)\n",
        "            n.append(num)\n",
        "            break\n",
        "        except ValueError:\n",
        "            print(\"Please enter an integer.\")\n",
        "n.sort()\n",
        "print(\"The second largest number is:\", n[-2])"
      ],
      "metadata": {
        "id": "WTcT6PGp5D3i"
      },
      "execution_count": null,
      "outputs": []
    },
    {
      "cell_type": "code",
      "metadata": {
        "colab": {
          "base_uri": "https://localhost:8080/"
        },
        "id": "e5f4deba",
        "outputId": "f56111ab-4ce6-430c-f7f0-c0e7e6892f8a"
      },
      "source": [
        "ns = []\n",
        "print(\"Enter integers (type 'done' when finished):\")\n",
        "while True:\n",
        "    i = input(\"Enter a number: \")\n",
        "    if i.lower() == 'done':\n",
        "        break\n",
        "    try:\n",
        "        n = int(i)\n",
        "        ns.append(n)\n",
        "    except ValueError:\n",
        "        print(\"Invalid input. Please enter an integer.\")\n",
        "print(\"Original list:\", ns)\n",
        "odds = [n for n in ns if n % 2 != 0]\n",
        "print(\"List with even numbers removed:\", odds)"
      ],
      "execution_count": 14,
      "outputs": [
        {
          "output_type": "stream",
          "name": "stdout",
          "text": [
            "Enter integers (type 'done' when finished):\n",
            "Enter a number: 92\n",
            "Enter a number: 88\n",
            "Enter a number: 50\n",
            "Enter a number: 41\n",
            "Enter a number: done\n",
            "Original list: [92, 88, 50, 41]\n",
            "List with even numbers removed: [41]\n"
          ]
        }
      ]
    },
    {
      "cell_type": "code",
      "metadata": {
        "colab": {
          "base_uri": "https://localhost:8080/"
        },
        "id": "ee9e5bdc",
        "outputId": "220f43a3-f328-469c-e567-756a55c7c76f"
      },
      "source": [
        "s = []\n",
        "print(\"Enter names for the list (type 'done' when finished):\")\n",
        "while True:\n",
        "    i = input(\"Enter a name: \")\n",
        "    if i.lower() == 'done':\n",
        "        break\n",
        "    s.append(i)\n",
        "print(f\"Original list: {s}\")\n",
        "n = input(\"Enter the name to remove: \").lower()\n",
        "if n in [name.lower() for name in s]:\n",
        "    s.remove(n.capitalize())\n",
        "    print(f\"'{n}' removed from the list.\")\n",
        "else:\n",
        "    print(f\"'{n}' not found in the list.\")\n",
        "print(\"Updated list:\", s)"
      ],
      "execution_count": 9,
      "outputs": [
        {
          "output_type": "stream",
          "name": "stdout",
          "text": [
            "Enter names for the list (type 'done' when finished):\n",
            "Enter a name: Deevanshu\n",
            "Enter a name: PriYanshu\n",
            "Enter a name: done\n",
            "Original list: ['Deevanshu', 'PriYanshu']\n",
            "Enter the name to remove: deevanshu\n",
            "'deevanshu' removed from the list.\n",
            "Updated list: ['PriYanshu']\n"
          ]
        }
      ]
    },
    {
      "cell_type": "code",
      "metadata": {
        "colab": {
          "base_uri": "https://localhost:8080/"
        },
        "id": "9f7946af",
        "outputId": "608700e1-f621-4828-ec8a-105a6144bf51"
      },
      "source": [
        "ns = []\n",
        "print(\"Enter numbers to add to the list (type 'done' when finished):\")\n",
        "while True:\n",
        "    i = input(\"Enter a number: \")\n",
        "    if i.lower() == 'done':\n",
        "        break\n",
        "    try:\n",
        "        num = int(i)\n",
        "        ns.append(num)\n",
        "    except ValueError:\n",
        "        print(\"Invalid input. Please enter an integer or 'done'.\")\n",
        "print(\"Current list:\", ns)\n",
        "n = input(\"Enter a number to find and remove: \")\n",
        "try:\n",
        "    num_to_find = int(n)\n",
        "except ValueError:\n",
        "    try:\n",
        "        num_to_find = float(n)\n",
        "    except ValueError:\n",
        "        num_to_find = n\n",
        "if num_to_find in ns:\n",
        "    idx = ns.index(num_to_find)\n",
        "    print(f\"Number found at index: {idx}\")\n",
        "    ns.remove(num_to_find)\n",
        "    print(\"Updated list:\", ns)\n",
        "else:\n",
        "    print(f\"Number '{n}' not found in the list.\")"
      ],
      "execution_count": null,
      "outputs": [
        {
          "output_type": "stream",
          "name": "stdout",
          "text": [
            "Enter numbers to add to the list (type 'done' when finished):\n",
            "Enter a number: 20\n",
            "Enter a number: 30\n",
            "Enter a number: 40\n",
            "Enter a number: done\n",
            "Current list: [20, 30, 40]\n",
            "Enter a number to find and remove: 40\n",
            "Number found at index: 2\n",
            "Updated list: [20, 30]\n"
          ]
        }
      ]
    },
    {
      "cell_type": "code",
      "metadata": {
        "colab": {
          "base_uri": "https://localhost:8080/"
        },
        "id": "638f784f",
        "outputId": "44c6889c-8a6b-44ba-cbff-a258fa9e756d"
      },
      "source": [
        "w = []\n",
        "for i in range(5):\n",
        "    s = input(f\"Enter string {i+1}: \")\n",
        "    w.append(s)\n",
        "print(\"Original list:\", w)\n",
        "w.sort()\n",
        "print(\"Sorted list:\", w)"
      ],
      "execution_count": null,
      "outputs": [
        {
          "output_type": "stream",
          "name": "stdout",
          "text": [
            "Enter string 1: deevanshu\n",
            "Enter string 2: poker\n",
            "Enter string 3: deev\n",
            "Enter string 4: yoyo\n",
            "Enter string 5: honey\n",
            "Original list: ['deevanshu', 'poker', 'deev', 'yoyo', 'honey']\n",
            "Sorted list: ['deev', 'deevanshu', 'honey', 'poker', 'yoyo']\n"
          ]
        }
      ]
    },
    {
      "cell_type": "code",
      "metadata": {
        "colab": {
          "base_uri": "https://localhost:8080/"
        },
        "id": "2a63741a",
        "outputId": "36cd5f24-acca-4a7c-8e46-5540aa91fcdb"
      },
      "source": [
        "w = []\n",
        "print(\"Enter words (type 'done' when finished):\")\n",
        "while True:\n",
        "    i = input(\"Enter a word: \")\n",
        "    if i.lower() == 'done':\n",
        "        break\n",
        "    w.append(i)\n",
        "c = w.count(\"python\")\n",
        "print(f\"The word 'python' appeared {c} times in the list.\")"
      ],
      "execution_count": null,
      "outputs": [
        {
          "output_type": "stream",
          "name": "stdout",
          "text": [
            "Enter words (type 'done' when finished):\n",
            "Enter a word: done\n",
            "The word 'python' appeared 0 times in the list.\n"
          ]
        }
      ]
    },
    {
      "cell_type": "code",
      "metadata": {
        "colab": {
          "base_uri": "https://localhost:8080/"
        },
        "id": "a45de128",
        "outputId": "623627c7-0e90-4a00-92f7-211b4e2a0d89"
      },
      "source": [
        "l = []\n",
        "print(\"Enter elements for the list (type 'done' when finished):\")\n",
        "while True:\n",
        "    i = input(\"Enter element: \")\n",
        "    if i.lower() == 'done':\n",
        "        break\n",
        "    l.append(i)\n",
        "print(f\"Original list before modification: {l}\")\n",
        "c = l.copy()\n",
        "print(f\"Copied list before modification: {c}\")\n",
        "c.append(60)\n",
        "if c:\n",
        "    c[0] = 100\n",
        "print(f\"Copied list after modification: {c}\")\n",
        "print(f\"Original list after modification: {l}\")"
      ],
      "execution_count": null,
      "outputs": [
        {
          "output_type": "stream",
          "name": "stdout",
          "text": [
            "Enter elements for the list (type 'done' when finished):\n",
            "Enter element: done\n",
            "Original list before modification: []\n",
            "Copied list before modification: []\n",
            "Copied list after modification: [100]\n",
            "Original list after modification: []\n"
          ]
        }
      ]
    },
    {
      "cell_type": "code",
      "metadata": {
        "colab": {
          "base_uri": "https://localhost:8080/"
        },
        "id": "942c9e8f",
        "outputId": "ba441e49-621d-4ac1-82c6-d8d144308468"
      },
      "source": [
        "n = []\n",
        "for i in range(7):\n",
        "    while True:\n",
        "        try:\n",
        "            num_str = input(f\"Enter number {i+1}: \")\n",
        "            num = int(num_str)\n",
        "            n.append(num)\n",
        "            break\n",
        "        except ValueError:\n",
        "            print(\"Invalid input. Please enter an integer.\")\n",
        "print(f\"Original list: {n}\")\n",
        "v_str = input(\"Enter a number to insert: \")\n",
        "try:\n",
        "    v = int(v_str)\n",
        "except ValueError:\n",
        "    try:\n",
        "        v = float(v_str)\n",
        "    except ValueError:\n",
        "        v = v_str\n",
        "mid_idx = len(n) // 2\n",
        "n.insert(mid_idx, v)\n",
        "print(f\"Modified list: {n}\")"
      ],
      "execution_count": null,
      "outputs": [
        {
          "output_type": "stream",
          "name": "stdout",
          "text": [
            "Enter number 1: 45\n",
            "Enter number 2: 95\n",
            "Enter number 3: 85\n",
            "Enter number 4: 25\n",
            "Enter number 5: 56\n",
            "Enter number 6: 40\n",
            "Enter number 7: 100\n",
            "Original list: [45, 95, 85, 25, 56, 40, 100]\n",
            "Enter a number to insert: 200\n",
            "Modified list: [45, 95, 85, 200, 25, 56, 40, 100]\n"
          ]
        }
      ]
    },
    {
      "cell_type": "code",
      "metadata": {
        "colab": {
          "base_uri": "https://localhost:8080/"
        },
        "id": "545fc514",
        "outputId": "28a9b99f-bd57-47ea-9b9c-49b1946ebae5"
      },
      "source": [
        "l = []\n",
        "print(\"Enter elements for the list (type 'done' when finished):\")\n",
        "while True:\n",
        "    i = input(\"Enter element: \")\n",
        "    if i.lower() == 'done':\n",
        "        break\n",
        "    l.append(i)\n",
        "print(f\"Original list before popping: {l}\")\n",
        "while l:\n",
        "    p = l.pop()\n",
        "    print(f\"Popped element: {p}\")\n",
        "print(\"List is now empty.\")"
      ],
      "execution_count": null,
      "outputs": [
        {
          "output_type": "stream",
          "name": "stdout",
          "text": [
            "Enter elements for the list (type 'done' when finished):\n",
            "Enter element: done\n",
            "Original list before popping: []\n",
            "List is now empty.\n"
          ]
        }
      ]
    },
    {
      "cell_type": "code",
      "metadata": {
        "colab": {
          "base_uri": "https://localhost:8080/"
        },
        "id": "20d8818e",
        "outputId": "89e7597d-00af-44f9-f3ed-c9cd85e6e957"
      },
      "source": [
        "n = []\n",
        "print(\"Enter numbers to add to the list (type 'done' when finished):\")\n",
        "while True:\n",
        "    i = input(\"Enter a number: \")\n",
        "    if i.lower() == 'done':\n",
        "        break\n",
        "    try:\n",
        "        num = int(i)\n",
        "        n.append(num)\n",
        "    except ValueError:\n",
        "        try:\n",
        "            num = float(i)\n",
        "            n.append(num)\n",
        "        except ValueError:\n",
        "            n.append(i)\n",
        "u = []\n",
        "for num in n:\n",
        "    if n.count(num) == 1:\n",
        "        u.append(num)\n",
        "print(\"Unique elements:\", u)"
      ],
      "execution_count": null,
      "outputs": [
        {
          "output_type": "stream",
          "name": "stdout",
          "text": [
            "Enter numbers to add to the list (type 'done' when finished):\n",
            "Enter a number: 67\n",
            "Enter a number: 78\n",
            "Enter a number: 89\n",
            "Enter a number: 90\n",
            "Enter a number: 11\n",
            "Enter a number: 22\n",
            "Enter a number: done\n",
            "Unique elements: [67, 78, 89, 90, 11, 22]\n"
          ]
        }
      ]
    },
    {
      "cell_type": "code",
      "metadata": {
        "id": "375bbf1a",
        "colab": {
          "base_uri": "https://localhost:8080/"
        },
        "outputId": "f62b209d-2668-47f6-8b33-540729ad2c84"
      },
      "source": [
        "numbers = [4, 2, 4, 5, 2, 3, 1, 5, 6]\n",
        "unique = []\n",
        "for num in numbers:\n",
        "    if numbers.count(num) == 1:\n",
        "        unique.append(num)\n",
        "print(unique)"
      ],
      "execution_count": 1,
      "outputs": [
        {
          "output_type": "stream",
          "name": "stdout",
          "text": [
            "Enter numbers to add to the list (type 'done' when finished):\n",
            "Enter a number: 85\n",
            "Enter a number: 90\n",
            "Enter a number: 12\n",
            "Enter a number: done\n",
            "Unique elements: [85, 90, 12]\n"
          ]
        }
      ]
    },
    {
      "cell_type": "code",
      "metadata": {
        "colab": {
          "base_uri": "https://localhost:8080/"
        },
        "id": "56974769",
        "outputId": "18a57080-7198-4223-82ab-a8f0a857e40c"
      },
      "source": [
        "my = (10, 20, 30, 20, 40)\n",
        "print(\"First element:\", my[0])\n",
        "print(\"Last element:\", my[-1])\n",
        "print(\"Count of 20:\", my.count(20))\n",
        "print(\"Index of 30:\", my.index(30))"
      ],
      "execution_count": 15,
      "outputs": [
        {
          "output_type": "stream",
          "name": "stdout",
          "text": [
            "First element: 10\n",
            "Last element: 40\n",
            "Count of 20: 2\n",
            "Index of 30: 2\n"
          ]
        }
      ]
    }
  ]
}